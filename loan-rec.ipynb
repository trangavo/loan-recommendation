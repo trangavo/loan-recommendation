{
  "nbformat": 4,
  "nbformat_minor": 0,
  "metadata": {
    "colab": {
      "name": "Assignment2.ipynb",
      "provenance": [],
      "toc_visible": true,
      "mount_file_id": "1oPxXYBSKrCwhvCytvPEaT1e2bVbYZMTZ",
      "authorship_tag": "ABX9TyNT5hfbj86brLSUZ9/c+csv",
      "include_colab_link": true
    },
    "kernelspec": {
      "name": "python3",
      "display_name": "Python 3"
    }
  },
  "cells": [
    {
      "cell_type": "markdown",
      "metadata": {
        "id": "view-in-github",
        "colab_type": "text"
      },
      "source": [
        "<a href=\"https://colab.research.google.com/github/trangnguyenvn1398/loan-recommendation/blob/main/loan-rec.ipynb\" target=\"_parent\"><img src=\"https://colab.research.google.com/assets/colab-badge.svg\" alt=\"Open In Colab\"/></a>"
      ]
    },
    {
      "cell_type": "markdown",
      "metadata": {
        "id": "Kcty5PiU2yV7"
      },
      "source": [
        "# Import packages"
      ]
    },
    {
      "cell_type": "code",
      "metadata": {
        "id": "Ol0tGKVwyZaO"
      },
      "source": [
        "# import packages\n",
        "import pandas as pd\n",
        "import matplotlib.pyplot as plt\n",
        "import numpy as np\n",
        "from sklearn.model_selection import train_test_split, GridSearchCV\n",
        "from sklearn.linear_model import LogisticRegressionCV, LinearRegression, RidgeCV, LassoCV, ElasticNetCV\n",
        "from sklearn.neighbors import KNeighborsRegressor, KNeighborsClassifier\n",
        "from sklearn.ensemble import RandomForestClassifier, RandomForestRegressor\n",
        "from sklearn.pipeline import Pipeline\n",
        "from sklearn.compose import ColumnTransformer\n",
        "from sklearn.preprocessing import StandardScaler, OneHotEncoder, LabelBinarizer\n",
        "from sklearn.metrics import accuracy_score, r2_score, mean_absolute_error, mean_squared_error, median_absolute_error, precision_recall_fscore_support\n",
        "from sklearn.utils import shuffle"
      ],
      "execution_count": 1,
      "outputs": []
    },
    {
      "cell_type": "markdown",
      "metadata": {
        "id": "c5f-whqO201C"
      },
      "source": [
        "# Load and preprocess data"
      ]
    },
    {
      "cell_type": "code",
      "metadata": {
        "id": "T0MhEC9U0imf",
        "outputId": "72f692a1-f797-4284-e4ae-20ce0b1a10f2",
        "colab": {
          "base_uri": "https://localhost:8080/",
          "height": 33
        }
      },
      "source": [
        "from google.colab import drive\n",
        "drive.mount('/content/gdrive', force_remount=True)"
      ],
      "execution_count": 2,
      "outputs": [
        {
          "output_type": "stream",
          "text": [
            "Mounted at /content/gdrive\n"
          ],
          "name": "stdout"
        }
      ]
    },
    {
      "cell_type": "code",
      "metadata": {
        "id": "hAMqX9ig3E5A",
        "outputId": "1901c8d9-dc60-4c46-e2ac-f176e11b2196",
        "colab": {
          "base_uri": "https://localhost:8080/",
          "height": 548
        }
      },
      "source": [
        "# load the data\n",
        "\n",
        "rejected = pd.read_csv('/content/gdrive/My Drive/Fall 2020/CS156/rejected_2007_to_2018Q4.csv')\n",
        "accepted = pd.read_csv('/content/gdrive/My Drive/Fall 2020/CS156/accepted_2007_to_2018Q4.csv')\n",
        "\n",
        "# check the data\n",
        "print(f'Rejected shape: {rejected.shape}, Accepted shape: {accepted.shape}')\n",
        "print('Rejected head', rejected.head)\n",
        "print('Accepted head', accepted.head)"
      ],
      "execution_count": 3,
      "outputs": [
        {
          "output_type": "stream",
          "text": [
            "/usr/local/lib/python3.6/dist-packages/IPython/core/interactiveshell.py:2718: DtypeWarning: Columns (0,19,49,59,118,129,130,131,134,135,136,139,145,146,147) have mixed types.Specify dtype option on import or set low_memory=False.\n",
            "  interactivity=interactivity, compiler=compiler, result=result)\n"
          ],
          "name": "stderr"
        },
        {
          "output_type": "stream",
          "text": [
            "Rejected shape: (27648741, 9), Accepted shape: (2260701, 151)\n",
            "Rejected head <bound method NDFrame.head of           Amount Requested Application Date  ... Employment Length  Policy Code\n",
            "0                   1000.0       2007-05-26  ...           4 years          0.0\n",
            "1                   1000.0       2007-05-26  ...          < 1 year          0.0\n",
            "2                  11000.0       2007-05-27  ...            1 year          0.0\n",
            "3                   6000.0       2007-05-27  ...          < 1 year          0.0\n",
            "4                   1500.0       2007-05-27  ...          < 1 year          0.0\n",
            "...                    ...              ...  ...               ...          ...\n",
            "27648736           10000.0       2016-12-31  ...          < 1 year          0.0\n",
            "27648737           10000.0       2016-12-31  ...           5 years          0.0\n",
            "27648738            1200.0       2016-12-31  ...          < 1 year          0.0\n",
            "27648739           25000.0       2016-12-31  ...          < 1 year          0.0\n",
            "27648740           15000.0       2016-12-31  ...          < 1 year          0.0\n",
            "\n",
            "[27648741 rows x 9 columns]>\n",
            "Accepted head <bound method NDFrame.head of                                                        id  ...  settlement_term\n",
            "0                                                68407277  ...              NaN\n",
            "1                                                68355089  ...              NaN\n",
            "2                                                68341763  ...              NaN\n",
            "3                                                66310712  ...              NaN\n",
            "4                                                68476807  ...              NaN\n",
            "...                                                   ...  ...              ...\n",
            "2260696                                          88985880  ...              NaN\n",
            "2260697                                          88224441  ...              1.0\n",
            "2260698                                          88215728  ...              NaN\n",
            "2260699  Total amount funded in policy code 1: 1465324575  ...              NaN\n",
            "2260700   Total amount funded in policy code 2: 521953170  ...              NaN\n",
            "\n",
            "[2260701 rows x 151 columns]>\n"
          ],
          "name": "stdout"
        }
      ]
    },
    {
      "cell_type": "code",
      "metadata": {
        "id": "SYudwJlE3pWo",
        "outputId": "3044ce5f-5a20-4f64-f0d5-65114fbe3d2c",
        "colab": {
          "base_uri": "https://localhost:8080/",
          "height": 214
        }
      },
      "source": [
        "# check the columns\n",
        "rejected_cols = rejected.columns\n",
        "accepted_cols = accepted.columns\n",
        "print('Rejected columns', rejected_cols)\n",
        "print('Accepted columns', accepted_cols)"
      ],
      "execution_count": 4,
      "outputs": [
        {
          "output_type": "stream",
          "text": [
            "Rejected columns Index(['Amount Requested', 'Application Date', 'Loan Title', 'Risk_Score',\n",
            "       'Debt-To-Income Ratio', 'Zip Code', 'State', 'Employment Length',\n",
            "       'Policy Code'],\n",
            "      dtype='object')\n",
            "Accepted columns Index(['id', 'member_id', 'loan_amnt', 'funded_amnt', 'funded_amnt_inv',\n",
            "       'term', 'int_rate', 'installment', 'grade', 'sub_grade',\n",
            "       ...\n",
            "       'hardship_payoff_balance_amount', 'hardship_last_payment_amount',\n",
            "       'disbursement_method', 'debt_settlement_flag',\n",
            "       'debt_settlement_flag_date', 'settlement_status', 'settlement_date',\n",
            "       'settlement_amount', 'settlement_percentage', 'settlement_term'],\n",
            "      dtype='object', length=151)\n"
          ],
          "name": "stdout"
        }
      ]
    },
    {
      "cell_type": "code",
      "metadata": {
        "id": "s02Vk_B25Ui6"
      },
      "source": [
        "# get sample from the data\n",
        "\n",
        "sampled_rejected = rejected.sample(n=3000, random_state=123)\n",
        "sampled_accepted = accepted.sample(n=10000, random_state=123)\n",
        "\n",
        "sampled_rejected = sampled_rejected.drop(['Application Date', 'Risk_Score'], axis=1)\n",
        "sampled_accepted = sampled_accepted[['funded_amnt', 'funded_amnt_inv', 'loan_amnt', 'loan_status', 'title', 'dti', 'zip_code', 'addr_state', 'emp_length', 'policy_code']]"
      ],
      "execution_count": 5,
      "outputs": []
    },
    {
      "cell_type": "code",
      "metadata": {
        "id": "OFrB58KGEoeT"
      },
      "source": [
        "# convert to a csv file\n",
        "sampled_rejected.to_csv('sample_rejected.csv')\n",
        "sampled_accepted.to_csv('sample_accepted.csv')"
      ],
      "execution_count": 6,
      "outputs": []
    },
    {
      "cell_type": "code",
      "metadata": {
        "id": "l0E-jziTJz1C",
        "outputId": "29c42545-c495-486c-9e39-877f16cbcadf",
        "colab": {
          "base_uri": "https://localhost:8080/",
          "height": 189
        }
      },
      "source": [
        "# check the accepted sample\n",
        "sampled_accepted.head()"
      ],
      "execution_count": 7,
      "outputs": [
        {
          "output_type": "execute_result",
          "data": {
            "text/html": [
              "<div>\n",
              "<style scoped>\n",
              "    .dataframe tbody tr th:only-of-type {\n",
              "        vertical-align: middle;\n",
              "    }\n",
              "\n",
              "    .dataframe tbody tr th {\n",
              "        vertical-align: top;\n",
              "    }\n",
              "\n",
              "    .dataframe thead th {\n",
              "        text-align: right;\n",
              "    }\n",
              "</style>\n",
              "<table border=\"1\" class=\"dataframe\">\n",
              "  <thead>\n",
              "    <tr style=\"text-align: right;\">\n",
              "      <th></th>\n",
              "      <th>funded_amnt</th>\n",
              "      <th>funded_amnt_inv</th>\n",
              "      <th>loan_amnt</th>\n",
              "      <th>loan_status</th>\n",
              "      <th>title</th>\n",
              "      <th>dti</th>\n",
              "      <th>zip_code</th>\n",
              "      <th>addr_state</th>\n",
              "      <th>emp_length</th>\n",
              "      <th>policy_code</th>\n",
              "    </tr>\n",
              "  </thead>\n",
              "  <tbody>\n",
              "    <tr>\n",
              "      <th>694363</th>\n",
              "      <td>21550.0</td>\n",
              "      <td>21550.0</td>\n",
              "      <td>21550.0</td>\n",
              "      <td>Charged Off</td>\n",
              "      <td>Debt consolidation</td>\n",
              "      <td>14.02</td>\n",
              "      <td>894xx</td>\n",
              "      <td>NV</td>\n",
              "      <td>&lt; 1 year</td>\n",
              "      <td>1.0</td>\n",
              "    </tr>\n",
              "    <tr>\n",
              "      <th>471099</th>\n",
              "      <td>10500.0</td>\n",
              "      <td>10500.0</td>\n",
              "      <td>10500.0</td>\n",
              "      <td>Fully Paid</td>\n",
              "      <td>Debt consolidation</td>\n",
              "      <td>20.67</td>\n",
              "      <td>985xx</td>\n",
              "      <td>WA</td>\n",
              "      <td>10+ years</td>\n",
              "      <td>1.0</td>\n",
              "    </tr>\n",
              "    <tr>\n",
              "      <th>497651</th>\n",
              "      <td>10000.0</td>\n",
              "      <td>10000.0</td>\n",
              "      <td>10000.0</td>\n",
              "      <td>Current</td>\n",
              "      <td>Debt consolidation</td>\n",
              "      <td>28.70</td>\n",
              "      <td>937xx</td>\n",
              "      <td>CA</td>\n",
              "      <td>10+ years</td>\n",
              "      <td>1.0</td>\n",
              "    </tr>\n",
              "    <tr>\n",
              "      <th>1424167</th>\n",
              "      <td>27000.0</td>\n",
              "      <td>27000.0</td>\n",
              "      <td>27000.0</td>\n",
              "      <td>Current</td>\n",
              "      <td>Debt consolidation</td>\n",
              "      <td>17.46</td>\n",
              "      <td>178xx</td>\n",
              "      <td>PA</td>\n",
              "      <td>2 years</td>\n",
              "      <td>1.0</td>\n",
              "    </tr>\n",
              "    <tr>\n",
              "      <th>1886646</th>\n",
              "      <td>35000.0</td>\n",
              "      <td>35000.0</td>\n",
              "      <td>35000.0</td>\n",
              "      <td>Fully Paid</td>\n",
              "      <td>Investments</td>\n",
              "      <td>6.66</td>\n",
              "      <td>021xx</td>\n",
              "      <td>MA</td>\n",
              "      <td>10+ years</td>\n",
              "      <td>1.0</td>\n",
              "    </tr>\n",
              "  </tbody>\n",
              "</table>\n",
              "</div>"
            ],
            "text/plain": [
              "         funded_amnt  funded_amnt_inv  ...  emp_length policy_code\n",
              "694363       21550.0          21550.0  ...    < 1 year         1.0\n",
              "471099       10500.0          10500.0  ...   10+ years         1.0\n",
              "497651       10000.0          10000.0  ...   10+ years         1.0\n",
              "1424167      27000.0          27000.0  ...     2 years         1.0\n",
              "1886646      35000.0          35000.0  ...   10+ years         1.0\n",
              "\n",
              "[5 rows x 10 columns]"
            ]
          },
          "metadata": {
            "tags": []
          },
          "execution_count": 7
        }
      ]
    },
    {
      "cell_type": "code",
      "metadata": {
        "id": "CrJlRAitIfgB",
        "outputId": "3a6b19fa-7f19-4f13-d7bb-d9b464c4425e",
        "colab": {
          "base_uri": "https://localhost:8080/",
          "height": 360
        }
      },
      "source": [
        "sampled_accepted[sampled_accepted['funded_amnt'] != sampled_accepted['loan_amnt']]"
      ],
      "execution_count": 8,
      "outputs": [
        {
          "output_type": "execute_result",
          "data": {
            "text/html": [
              "<div>\n",
              "<style scoped>\n",
              "    .dataframe tbody tr th:only-of-type {\n",
              "        vertical-align: middle;\n",
              "    }\n",
              "\n",
              "    .dataframe tbody tr th {\n",
              "        vertical-align: top;\n",
              "    }\n",
              "\n",
              "    .dataframe thead th {\n",
              "        text-align: right;\n",
              "    }\n",
              "</style>\n",
              "<table border=\"1\" class=\"dataframe\">\n",
              "  <thead>\n",
              "    <tr style=\"text-align: right;\">\n",
              "      <th></th>\n",
              "      <th>funded_amnt</th>\n",
              "      <th>funded_amnt_inv</th>\n",
              "      <th>loan_amnt</th>\n",
              "      <th>loan_status</th>\n",
              "      <th>title</th>\n",
              "      <th>dti</th>\n",
              "      <th>zip_code</th>\n",
              "      <th>addr_state</th>\n",
              "      <th>emp_length</th>\n",
              "      <th>policy_code</th>\n",
              "    </tr>\n",
              "  </thead>\n",
              "  <tbody>\n",
              "    <tr>\n",
              "      <th>1623446</th>\n",
              "      <td>10575.0</td>\n",
              "      <td>10575.000000</td>\n",
              "      <td>13700.0</td>\n",
              "      <td>Charged Off</td>\n",
              "      <td>Impact Fee</td>\n",
              "      <td>0.00</td>\n",
              "      <td>082xx</td>\n",
              "      <td>NJ</td>\n",
              "      <td>6 years</td>\n",
              "      <td>1.0</td>\n",
              "    </tr>\n",
              "    <tr>\n",
              "      <th>1625126</th>\n",
              "      <td>11000.0</td>\n",
              "      <td>10750.000000</td>\n",
              "      <td>16000.0</td>\n",
              "      <td>Fully Paid</td>\n",
              "      <td>Debt Consolidation</td>\n",
              "      <td>16.75</td>\n",
              "      <td>917xx</td>\n",
              "      <td>CA</td>\n",
              "      <td>9 years</td>\n",
              "      <td>1.0</td>\n",
              "    </tr>\n",
              "    <tr>\n",
              "      <th>1625481</th>\n",
              "      <td>24600.0</td>\n",
              "      <td>24575.000000</td>\n",
              "      <td>28000.0</td>\n",
              "      <td>Fully Paid</td>\n",
              "      <td>Home improvement</td>\n",
              "      <td>7.14</td>\n",
              "      <td>922xx</td>\n",
              "      <td>CA</td>\n",
              "      <td>10+ years</td>\n",
              "      <td>1.0</td>\n",
              "    </tr>\n",
              "    <tr>\n",
              "      <th>1624257</th>\n",
              "      <td>9175.0</td>\n",
              "      <td>9150.000000</td>\n",
              "      <td>10000.0</td>\n",
              "      <td>Fully Paid</td>\n",
              "      <td>2011 Pay Down Dept</td>\n",
              "      <td>15.07</td>\n",
              "      <td>662xx</td>\n",
              "      <td>KS</td>\n",
              "      <td>10+ years</td>\n",
              "      <td>1.0</td>\n",
              "    </tr>\n",
              "    <tr>\n",
              "      <th>1627127</th>\n",
              "      <td>21275.0</td>\n",
              "      <td>21225.000000</td>\n",
              "      <td>35000.0</td>\n",
              "      <td>Charged Off</td>\n",
              "      <td>Business Loan</td>\n",
              "      <td>6.48</td>\n",
              "      <td>597xx</td>\n",
              "      <td>MT</td>\n",
              "      <td>8 years</td>\n",
              "      <td>1.0</td>\n",
              "    </tr>\n",
              "    <tr>\n",
              "      <th>1640915</th>\n",
              "      <td>9600.0</td>\n",
              "      <td>9215.624001</td>\n",
              "      <td>14400.0</td>\n",
              "      <td>Fully Paid</td>\n",
              "      <td>Wedding and Debt</td>\n",
              "      <td>21.60</td>\n",
              "      <td>949xx</td>\n",
              "      <td>CA</td>\n",
              "      <td>&lt; 1 year</td>\n",
              "      <td>1.0</td>\n",
              "    </tr>\n",
              "    <tr>\n",
              "      <th>1636518</th>\n",
              "      <td>15700.0</td>\n",
              "      <td>15456.031031</td>\n",
              "      <td>25000.0</td>\n",
              "      <td>Charged Off</td>\n",
              "      <td>House Projects</td>\n",
              "      <td>16.26</td>\n",
              "      <td>928xx</td>\n",
              "      <td>CA</td>\n",
              "      <td>10+ years</td>\n",
              "      <td>1.0</td>\n",
              "    </tr>\n",
              "    <tr>\n",
              "      <th>1634685</th>\n",
              "      <td>6300.0</td>\n",
              "      <td>5887.864277</td>\n",
              "      <td>10000.0</td>\n",
              "      <td>Fully Paid</td>\n",
              "      <td>Credit Card Refinance</td>\n",
              "      <td>8.64</td>\n",
              "      <td>921xx</td>\n",
              "      <td>CA</td>\n",
              "      <td>5 years</td>\n",
              "      <td>1.0</td>\n",
              "    </tr>\n",
              "    <tr>\n",
              "      <th>1612960</th>\n",
              "      <td>16175.0</td>\n",
              "      <td>16175.000000</td>\n",
              "      <td>17475.0</td>\n",
              "      <td>Charged Off</td>\n",
              "      <td>personal loan</td>\n",
              "      <td>24.84</td>\n",
              "      <td>890xx</td>\n",
              "      <td>NV</td>\n",
              "      <td>10+ years</td>\n",
              "      <td>1.0</td>\n",
              "    </tr>\n",
              "    <tr>\n",
              "      <th>1620170</th>\n",
              "      <td>12050.0</td>\n",
              "      <td>12046.260282</td>\n",
              "      <td>16000.0</td>\n",
              "      <td>Fully Paid</td>\n",
              "      <td>Credit Card Payoff</td>\n",
              "      <td>16.63</td>\n",
              "      <td>920xx</td>\n",
              "      <td>CA</td>\n",
              "      <td>&lt; 1 year</td>\n",
              "      <td>1.0</td>\n",
              "    </tr>\n",
              "    <tr>\n",
              "      <th>1650825</th>\n",
              "      <td>7850.0</td>\n",
              "      <td>6575.000000</td>\n",
              "      <td>15600.0</td>\n",
              "      <td>Fully Paid</td>\n",
              "      <td>safemoney</td>\n",
              "      <td>6.65</td>\n",
              "      <td>951xx</td>\n",
              "      <td>CA</td>\n",
              "      <td>2 years</td>\n",
              "      <td>1.0</td>\n",
              "    </tr>\n",
              "  </tbody>\n",
              "</table>\n",
              "</div>"
            ],
            "text/plain": [
              "         funded_amnt  funded_amnt_inv  ...  emp_length policy_code\n",
              "1623446      10575.0     10575.000000  ...     6 years         1.0\n",
              "1625126      11000.0     10750.000000  ...     9 years         1.0\n",
              "1625481      24600.0     24575.000000  ...   10+ years         1.0\n",
              "1624257       9175.0      9150.000000  ...   10+ years         1.0\n",
              "1627127      21275.0     21225.000000  ...     8 years         1.0\n",
              "1640915       9600.0      9215.624001  ...    < 1 year         1.0\n",
              "1636518      15700.0     15456.031031  ...   10+ years         1.0\n",
              "1634685       6300.0      5887.864277  ...     5 years         1.0\n",
              "1612960      16175.0     16175.000000  ...   10+ years         1.0\n",
              "1620170      12050.0     12046.260282  ...    < 1 year         1.0\n",
              "1650825       7850.0      6575.000000  ...     2 years         1.0\n",
              "\n",
              "[11 rows x 10 columns]"
            ]
          },
          "metadata": {
            "tags": []
          },
          "execution_count": 8
        }
      ]
    },
    {
      "cell_type": "code",
      "metadata": {
        "id": "TPkyZxDfHf2x"
      },
      "source": [
        "sampled_accepted['accepted'] = 1\n",
        "sampled_accepted = sampled_accepted[['title',\n",
        "       'dti', 'zip_code', 'addr_state', 'emp_length', 'policy_code', 'loan_amnt', 'accepted', 'funded_amnt', 'funded_amnt_inv']]"
      ],
      "execution_count": 9,
      "outputs": []
    },
    {
      "cell_type": "code",
      "metadata": {
        "id": "KFwGEV2lJ704",
        "outputId": "10f4901f-84d4-40ae-cd19-7b7322be153a",
        "colab": {
          "base_uri": "https://localhost:8080/",
          "height": 189
        }
      },
      "source": [
        "sampled_rejected.head()"
      ],
      "execution_count": 10,
      "outputs": [
        {
          "output_type": "execute_result",
          "data": {
            "text/html": [
              "<div>\n",
              "<style scoped>\n",
              "    .dataframe tbody tr th:only-of-type {\n",
              "        vertical-align: middle;\n",
              "    }\n",
              "\n",
              "    .dataframe tbody tr th {\n",
              "        vertical-align: top;\n",
              "    }\n",
              "\n",
              "    .dataframe thead th {\n",
              "        text-align: right;\n",
              "    }\n",
              "</style>\n",
              "<table border=\"1\" class=\"dataframe\">\n",
              "  <thead>\n",
              "    <tr style=\"text-align: right;\">\n",
              "      <th></th>\n",
              "      <th>Amount Requested</th>\n",
              "      <th>Loan Title</th>\n",
              "      <th>Debt-To-Income Ratio</th>\n",
              "      <th>Zip Code</th>\n",
              "      <th>State</th>\n",
              "      <th>Employment Length</th>\n",
              "      <th>Policy Code</th>\n",
              "    </tr>\n",
              "  </thead>\n",
              "  <tbody>\n",
              "    <tr>\n",
              "      <th>6160574</th>\n",
              "      <td>20000.0</td>\n",
              "      <td>Credit card refinancing</td>\n",
              "      <td>100%</td>\n",
              "      <td>452xx</td>\n",
              "      <td>OH</td>\n",
              "      <td>&lt; 1 year</td>\n",
              "      <td>0.0</td>\n",
              "    </tr>\n",
              "    <tr>\n",
              "      <th>4100285</th>\n",
              "      <td>25000.0</td>\n",
              "      <td>debt_consolidation</td>\n",
              "      <td>1.14%</td>\n",
              "      <td>948xx</td>\n",
              "      <td>CA</td>\n",
              "      <td>5 years</td>\n",
              "      <td>0.0</td>\n",
              "    </tr>\n",
              "    <tr>\n",
              "      <th>188890</th>\n",
              "      <td>25000.0</td>\n",
              "      <td>other</td>\n",
              "      <td>19.71%</td>\n",
              "      <td>335xx</td>\n",
              "      <td>FL</td>\n",
              "      <td>&lt; 1 year</td>\n",
              "      <td>0.0</td>\n",
              "    </tr>\n",
              "    <tr>\n",
              "      <th>8575099</th>\n",
              "      <td>8000.0</td>\n",
              "      <td>moving</td>\n",
              "      <td>14.69%</td>\n",
              "      <td>770xx</td>\n",
              "      <td>TX</td>\n",
              "      <td>&lt; 1 year</td>\n",
              "      <td>0.0</td>\n",
              "    </tr>\n",
              "    <tr>\n",
              "      <th>4220478</th>\n",
              "      <td>5000.0</td>\n",
              "      <td>Debt consolidation</td>\n",
              "      <td>11.19%</td>\n",
              "      <td>299xx</td>\n",
              "      <td>SC</td>\n",
              "      <td>&lt; 1 year</td>\n",
              "      <td>0.0</td>\n",
              "    </tr>\n",
              "  </tbody>\n",
              "</table>\n",
              "</div>"
            ],
            "text/plain": [
              "         Amount Requested  ... Policy Code\n",
              "6160574           20000.0  ...         0.0\n",
              "4100285           25000.0  ...         0.0\n",
              "188890            25000.0  ...         0.0\n",
              "8575099            8000.0  ...         0.0\n",
              "4220478            5000.0  ...         0.0\n",
              "\n",
              "[5 rows x 7 columns]"
            ]
          },
          "metadata": {
            "tags": []
          },
          "execution_count": 10
        }
      ]
    },
    {
      "cell_type": "code",
      "metadata": {
        "id": "GbHKrkgFFDHT"
      },
      "source": [
        "sampled_rejected['funded_amnt'] = 0\n",
        "sampled_rejected['funded_amnt_inv'] = 0\n",
        "sampled_rejected['accepted'] = 0\n",
        "\n",
        "sampled_rejected = sampled_rejected[['Loan Title', 'Debt-To-Income Ratio', 'Zip Code',\n",
        "       'State', 'Employment Length', 'Policy Code', 'Amount Requested', 'accepted', 'funded_amnt',\n",
        "       'funded_amnt_inv']]\n",
        "sampled_rejected.columns = sampled_accepted.columns"
      ],
      "execution_count": 11,
      "outputs": []
    },
    {
      "cell_type": "code",
      "metadata": {
        "id": "uaAPUKY_GptJ",
        "outputId": "9cd3c331-8122-4d76-cdab-b141a95191e4",
        "colab": {
          "base_uri": "https://localhost:8080/",
          "height": 189
        }
      },
      "source": [
        "sampled_accepted.head()"
      ],
      "execution_count": 12,
      "outputs": [
        {
          "output_type": "execute_result",
          "data": {
            "text/html": [
              "<div>\n",
              "<style scoped>\n",
              "    .dataframe tbody tr th:only-of-type {\n",
              "        vertical-align: middle;\n",
              "    }\n",
              "\n",
              "    .dataframe tbody tr th {\n",
              "        vertical-align: top;\n",
              "    }\n",
              "\n",
              "    .dataframe thead th {\n",
              "        text-align: right;\n",
              "    }\n",
              "</style>\n",
              "<table border=\"1\" class=\"dataframe\">\n",
              "  <thead>\n",
              "    <tr style=\"text-align: right;\">\n",
              "      <th></th>\n",
              "      <th>title</th>\n",
              "      <th>dti</th>\n",
              "      <th>zip_code</th>\n",
              "      <th>addr_state</th>\n",
              "      <th>emp_length</th>\n",
              "      <th>policy_code</th>\n",
              "      <th>loan_amnt</th>\n",
              "      <th>accepted</th>\n",
              "      <th>funded_amnt</th>\n",
              "      <th>funded_amnt_inv</th>\n",
              "    </tr>\n",
              "  </thead>\n",
              "  <tbody>\n",
              "    <tr>\n",
              "      <th>694363</th>\n",
              "      <td>Debt consolidation</td>\n",
              "      <td>14.02</td>\n",
              "      <td>894xx</td>\n",
              "      <td>NV</td>\n",
              "      <td>&lt; 1 year</td>\n",
              "      <td>1.0</td>\n",
              "      <td>21550.0</td>\n",
              "      <td>1</td>\n",
              "      <td>21550.0</td>\n",
              "      <td>21550.0</td>\n",
              "    </tr>\n",
              "    <tr>\n",
              "      <th>471099</th>\n",
              "      <td>Debt consolidation</td>\n",
              "      <td>20.67</td>\n",
              "      <td>985xx</td>\n",
              "      <td>WA</td>\n",
              "      <td>10+ years</td>\n",
              "      <td>1.0</td>\n",
              "      <td>10500.0</td>\n",
              "      <td>1</td>\n",
              "      <td>10500.0</td>\n",
              "      <td>10500.0</td>\n",
              "    </tr>\n",
              "    <tr>\n",
              "      <th>497651</th>\n",
              "      <td>Debt consolidation</td>\n",
              "      <td>28.70</td>\n",
              "      <td>937xx</td>\n",
              "      <td>CA</td>\n",
              "      <td>10+ years</td>\n",
              "      <td>1.0</td>\n",
              "      <td>10000.0</td>\n",
              "      <td>1</td>\n",
              "      <td>10000.0</td>\n",
              "      <td>10000.0</td>\n",
              "    </tr>\n",
              "    <tr>\n",
              "      <th>1424167</th>\n",
              "      <td>Debt consolidation</td>\n",
              "      <td>17.46</td>\n",
              "      <td>178xx</td>\n",
              "      <td>PA</td>\n",
              "      <td>2 years</td>\n",
              "      <td>1.0</td>\n",
              "      <td>27000.0</td>\n",
              "      <td>1</td>\n",
              "      <td>27000.0</td>\n",
              "      <td>27000.0</td>\n",
              "    </tr>\n",
              "    <tr>\n",
              "      <th>1886646</th>\n",
              "      <td>Investments</td>\n",
              "      <td>6.66</td>\n",
              "      <td>021xx</td>\n",
              "      <td>MA</td>\n",
              "      <td>10+ years</td>\n",
              "      <td>1.0</td>\n",
              "      <td>35000.0</td>\n",
              "      <td>1</td>\n",
              "      <td>35000.0</td>\n",
              "      <td>35000.0</td>\n",
              "    </tr>\n",
              "  </tbody>\n",
              "</table>\n",
              "</div>"
            ],
            "text/plain": [
              "                      title    dti  ... funded_amnt funded_amnt_inv\n",
              "694363   Debt consolidation  14.02  ...     21550.0         21550.0\n",
              "471099   Debt consolidation  20.67  ...     10500.0         10500.0\n",
              "497651   Debt consolidation  28.70  ...     10000.0         10000.0\n",
              "1424167  Debt consolidation  17.46  ...     27000.0         27000.0\n",
              "1886646         Investments   6.66  ...     35000.0         35000.0\n",
              "\n",
              "[5 rows x 10 columns]"
            ]
          },
          "metadata": {
            "tags": []
          },
          "execution_count": 12
        }
      ]
    },
    {
      "cell_type": "code",
      "metadata": {
        "id": "aNIMCz4qH_ly",
        "outputId": "31f836b7-7f75-4d40-e767-a9e8e6175a2e",
        "colab": {
          "base_uri": "https://localhost:8080/",
          "height": 189
        }
      },
      "source": [
        "# check the rejected sample\n",
        "sampled_rejected.head()"
      ],
      "execution_count": 13,
      "outputs": [
        {
          "output_type": "execute_result",
          "data": {
            "text/html": [
              "<div>\n",
              "<style scoped>\n",
              "    .dataframe tbody tr th:only-of-type {\n",
              "        vertical-align: middle;\n",
              "    }\n",
              "\n",
              "    .dataframe tbody tr th {\n",
              "        vertical-align: top;\n",
              "    }\n",
              "\n",
              "    .dataframe thead th {\n",
              "        text-align: right;\n",
              "    }\n",
              "</style>\n",
              "<table border=\"1\" class=\"dataframe\">\n",
              "  <thead>\n",
              "    <tr style=\"text-align: right;\">\n",
              "      <th></th>\n",
              "      <th>title</th>\n",
              "      <th>dti</th>\n",
              "      <th>zip_code</th>\n",
              "      <th>addr_state</th>\n",
              "      <th>emp_length</th>\n",
              "      <th>policy_code</th>\n",
              "      <th>loan_amnt</th>\n",
              "      <th>accepted</th>\n",
              "      <th>funded_amnt</th>\n",
              "      <th>funded_amnt_inv</th>\n",
              "    </tr>\n",
              "  </thead>\n",
              "  <tbody>\n",
              "    <tr>\n",
              "      <th>6160574</th>\n",
              "      <td>Credit card refinancing</td>\n",
              "      <td>100%</td>\n",
              "      <td>452xx</td>\n",
              "      <td>OH</td>\n",
              "      <td>&lt; 1 year</td>\n",
              "      <td>0.0</td>\n",
              "      <td>20000.0</td>\n",
              "      <td>0</td>\n",
              "      <td>0</td>\n",
              "      <td>0</td>\n",
              "    </tr>\n",
              "    <tr>\n",
              "      <th>4100285</th>\n",
              "      <td>debt_consolidation</td>\n",
              "      <td>1.14%</td>\n",
              "      <td>948xx</td>\n",
              "      <td>CA</td>\n",
              "      <td>5 years</td>\n",
              "      <td>0.0</td>\n",
              "      <td>25000.0</td>\n",
              "      <td>0</td>\n",
              "      <td>0</td>\n",
              "      <td>0</td>\n",
              "    </tr>\n",
              "    <tr>\n",
              "      <th>188890</th>\n",
              "      <td>other</td>\n",
              "      <td>19.71%</td>\n",
              "      <td>335xx</td>\n",
              "      <td>FL</td>\n",
              "      <td>&lt; 1 year</td>\n",
              "      <td>0.0</td>\n",
              "      <td>25000.0</td>\n",
              "      <td>0</td>\n",
              "      <td>0</td>\n",
              "      <td>0</td>\n",
              "    </tr>\n",
              "    <tr>\n",
              "      <th>8575099</th>\n",
              "      <td>moving</td>\n",
              "      <td>14.69%</td>\n",
              "      <td>770xx</td>\n",
              "      <td>TX</td>\n",
              "      <td>&lt; 1 year</td>\n",
              "      <td>0.0</td>\n",
              "      <td>8000.0</td>\n",
              "      <td>0</td>\n",
              "      <td>0</td>\n",
              "      <td>0</td>\n",
              "    </tr>\n",
              "    <tr>\n",
              "      <th>4220478</th>\n",
              "      <td>Debt consolidation</td>\n",
              "      <td>11.19%</td>\n",
              "      <td>299xx</td>\n",
              "      <td>SC</td>\n",
              "      <td>&lt; 1 year</td>\n",
              "      <td>0.0</td>\n",
              "      <td>5000.0</td>\n",
              "      <td>0</td>\n",
              "      <td>0</td>\n",
              "      <td>0</td>\n",
              "    </tr>\n",
              "  </tbody>\n",
              "</table>\n",
              "</div>"
            ],
            "text/plain": [
              "                           title     dti  ... funded_amnt funded_amnt_inv\n",
              "6160574  Credit card refinancing    100%  ...           0               0\n",
              "4100285       debt_consolidation   1.14%  ...           0               0\n",
              "188890                     other  19.71%  ...           0               0\n",
              "8575099                   moving  14.69%  ...           0               0\n",
              "4220478       Debt consolidation  11.19%  ...           0               0\n",
              "\n",
              "[5 rows x 10 columns]"
            ]
          },
          "metadata": {
            "tags": []
          },
          "execution_count": 13
        }
      ]
    },
    {
      "cell_type": "code",
      "metadata": {
        "id": "DGgyRtH7IB3E"
      },
      "source": [
        "# join accepted and rejected, shuffle\n",
        "sampled = pd.concat([sampled_accepted, sampled_rejected])\n",
        "sampled = shuffle(sampled).reset_index(drop=True)"
      ],
      "execution_count": 14,
      "outputs": []
    },
    {
      "cell_type": "code",
      "metadata": {
        "id": "mAqiB8fCIXgk",
        "outputId": "de1b2159-1a4e-4d39-f1d7-7e684083884b",
        "colab": {
          "base_uri": "https://localhost:8080/",
          "height": 331
        }
      },
      "source": [
        "sampled.head(10)"
      ],
      "execution_count": 15,
      "outputs": [
        {
          "output_type": "execute_result",
          "data": {
            "text/html": [
              "<div>\n",
              "<style scoped>\n",
              "    .dataframe tbody tr th:only-of-type {\n",
              "        vertical-align: middle;\n",
              "    }\n",
              "\n",
              "    .dataframe tbody tr th {\n",
              "        vertical-align: top;\n",
              "    }\n",
              "\n",
              "    .dataframe thead th {\n",
              "        text-align: right;\n",
              "    }\n",
              "</style>\n",
              "<table border=\"1\" class=\"dataframe\">\n",
              "  <thead>\n",
              "    <tr style=\"text-align: right;\">\n",
              "      <th></th>\n",
              "      <th>title</th>\n",
              "      <th>dti</th>\n",
              "      <th>zip_code</th>\n",
              "      <th>addr_state</th>\n",
              "      <th>emp_length</th>\n",
              "      <th>policy_code</th>\n",
              "      <th>loan_amnt</th>\n",
              "      <th>accepted</th>\n",
              "      <th>funded_amnt</th>\n",
              "      <th>funded_amnt_inv</th>\n",
              "    </tr>\n",
              "  </thead>\n",
              "  <tbody>\n",
              "    <tr>\n",
              "      <th>0</th>\n",
              "      <td>Debt consolidation</td>\n",
              "      <td>33.06%</td>\n",
              "      <td>220xx</td>\n",
              "      <td>VA</td>\n",
              "      <td>&lt; 1 year</td>\n",
              "      <td>0.0</td>\n",
              "      <td>40000.0</td>\n",
              "      <td>0</td>\n",
              "      <td>0.0</td>\n",
              "      <td>0.0</td>\n",
              "    </tr>\n",
              "    <tr>\n",
              "      <th>1</th>\n",
              "      <td>Home improvement</td>\n",
              "      <td>53.71</td>\n",
              "      <td>810xx</td>\n",
              "      <td>CO</td>\n",
              "      <td>10+ years</td>\n",
              "      <td>1.0</td>\n",
              "      <td>10000.0</td>\n",
              "      <td>1</td>\n",
              "      <td>10000.0</td>\n",
              "      <td>10000.0</td>\n",
              "    </tr>\n",
              "    <tr>\n",
              "      <th>2</th>\n",
              "      <td>Other</td>\n",
              "      <td>7.09%</td>\n",
              "      <td>606xx</td>\n",
              "      <td>IL</td>\n",
              "      <td>&lt; 1 year</td>\n",
              "      <td>0.0</td>\n",
              "      <td>4000.0</td>\n",
              "      <td>0</td>\n",
              "      <td>0.0</td>\n",
              "      <td>0.0</td>\n",
              "    </tr>\n",
              "    <tr>\n",
              "      <th>3</th>\n",
              "      <td>other</td>\n",
              "      <td>51.63%</td>\n",
              "      <td>170xx</td>\n",
              "      <td>PA</td>\n",
              "      <td>&lt; 1 year</td>\n",
              "      <td>0.0</td>\n",
              "      <td>15000.0</td>\n",
              "      <td>0</td>\n",
              "      <td>0.0</td>\n",
              "      <td>0.0</td>\n",
              "    </tr>\n",
              "    <tr>\n",
              "      <th>4</th>\n",
              "      <td>Debt consolidation</td>\n",
              "      <td>29.98</td>\n",
              "      <td>114xx</td>\n",
              "      <td>NY</td>\n",
              "      <td>1 year</td>\n",
              "      <td>1.0</td>\n",
              "      <td>20000.0</td>\n",
              "      <td>1</td>\n",
              "      <td>20000.0</td>\n",
              "      <td>20000.0</td>\n",
              "    </tr>\n",
              "    <tr>\n",
              "      <th>5</th>\n",
              "      <td>Debt consolidation</td>\n",
              "      <td>7.84</td>\n",
              "      <td>925xx</td>\n",
              "      <td>CA</td>\n",
              "      <td>2 years</td>\n",
              "      <td>1.0</td>\n",
              "      <td>10100.0</td>\n",
              "      <td>1</td>\n",
              "      <td>10100.0</td>\n",
              "      <td>10100.0</td>\n",
              "    </tr>\n",
              "    <tr>\n",
              "      <th>6</th>\n",
              "      <td>other</td>\n",
              "      <td>0%</td>\n",
              "      <td>104xx</td>\n",
              "      <td>NY</td>\n",
              "      <td>5 years</td>\n",
              "      <td>0.0</td>\n",
              "      <td>6000.0</td>\n",
              "      <td>0</td>\n",
              "      <td>0.0</td>\n",
              "      <td>0.0</td>\n",
              "    </tr>\n",
              "    <tr>\n",
              "      <th>7</th>\n",
              "      <td>Debt consolidation</td>\n",
              "      <td>27.6</td>\n",
              "      <td>974xx</td>\n",
              "      <td>OR</td>\n",
              "      <td>10+ years</td>\n",
              "      <td>1.0</td>\n",
              "      <td>8000.0</td>\n",
              "      <td>1</td>\n",
              "      <td>8000.0</td>\n",
              "      <td>8000.0</td>\n",
              "    </tr>\n",
              "    <tr>\n",
              "      <th>8</th>\n",
              "      <td>Credit card refinancing</td>\n",
              "      <td>13.64</td>\n",
              "      <td>120xx</td>\n",
              "      <td>NY</td>\n",
              "      <td>&lt; 1 year</td>\n",
              "      <td>1.0</td>\n",
              "      <td>28000.0</td>\n",
              "      <td>1</td>\n",
              "      <td>28000.0</td>\n",
              "      <td>28000.0</td>\n",
              "    </tr>\n",
              "    <tr>\n",
              "      <th>9</th>\n",
              "      <td>Debt consolidation</td>\n",
              "      <td>16.67</td>\n",
              "      <td>774xx</td>\n",
              "      <td>TX</td>\n",
              "      <td>10+ years</td>\n",
              "      <td>1.0</td>\n",
              "      <td>11000.0</td>\n",
              "      <td>1</td>\n",
              "      <td>11000.0</td>\n",
              "      <td>11000.0</td>\n",
              "    </tr>\n",
              "  </tbody>\n",
              "</table>\n",
              "</div>"
            ],
            "text/plain": [
              "                     title     dti  ... funded_amnt funded_amnt_inv\n",
              "0       Debt consolidation  33.06%  ...         0.0             0.0\n",
              "1         Home improvement   53.71  ...     10000.0         10000.0\n",
              "2                    Other   7.09%  ...         0.0             0.0\n",
              "3                    other  51.63%  ...         0.0             0.0\n",
              "4       Debt consolidation   29.98  ...     20000.0         20000.0\n",
              "5       Debt consolidation    7.84  ...     10100.0         10100.0\n",
              "6                    other      0%  ...         0.0             0.0\n",
              "7       Debt consolidation    27.6  ...      8000.0          8000.0\n",
              "8  Credit card refinancing   13.64  ...     28000.0         28000.0\n",
              "9       Debt consolidation   16.67  ...     11000.0         11000.0\n",
              "\n",
              "[10 rows x 10 columns]"
            ]
          },
          "metadata": {
            "tags": []
          },
          "execution_count": 15
        }
      ]
    },
    {
      "cell_type": "code",
      "metadata": {
        "id": "ZKhD6Lz1QLz4",
        "outputId": "85996597-86cd-442c-f9ea-a2dea2d58044",
        "colab": {
          "base_uri": "https://localhost:8080/",
          "height": 66
        }
      },
      "source": [
        "sampled['emp_length'].unique()"
      ],
      "execution_count": 16,
      "outputs": [
        {
          "output_type": "execute_result",
          "data": {
            "text/plain": [
              "array(['< 1 year', '10+ years', '1 year', '2 years', '5 years', nan,\n",
              "       '4 years', '6 years', '3 years', '9 years', '8 years', '7 years'],\n",
              "      dtype=object)"
            ]
          },
          "metadata": {
            "tags": []
          },
          "execution_count": 16
        }
      ]
    },
    {
      "cell_type": "code",
      "metadata": {
        "id": "HWI8cdMTI0o_"
      },
      "source": [
        "# convert employment years to numbers\n",
        "def emp_year(data):\n",
        "  if data == '< 1 year':\n",
        "    return 0\n",
        "  elif data == '10+ years':\n",
        "    return 10\n",
        "  elif 'years' in str(data) or 'year' in str(data):\n",
        "    return np.float(data[0])\n",
        "  else:\n",
        "    return data\n",
        "\n",
        "sampled['emp_length'] = sampled['emp_length'].apply(emp_year)"
      ],
      "execution_count": 17,
      "outputs": []
    },
    {
      "cell_type": "code",
      "metadata": {
        "id": "vrCRARdJQRMW"
      },
      "source": [
        "# convert dti to percentages\n",
        "def dti_short(data):\n",
        "  if '%' in str(data):\n",
        "    return np.float(str(data)[:-1])\n",
        "  else:\n",
        "    return np.float(data)\n",
        "\n",
        "sampled['dti'] = sampled['dti'].apply(dti_short)"
      ],
      "execution_count": 18,
      "outputs": []
    },
    {
      "cell_type": "code",
      "metadata": {
        "id": "QXlPVA7LRr3d",
        "outputId": "b108068b-5145-416f-9573-b7d9bbe365d5",
        "colab": {
          "base_uri": "https://localhost:8080/",
          "height": 33
        }
      },
      "source": [
        "# get the first number of zip code\n",
        "sampled['zip_code_short'] = sampled['zip_code'].str[:1]\n",
        "sampled['zip_code_short'].unique()"
      ],
      "execution_count": 19,
      "outputs": [
        {
          "output_type": "execute_result",
          "data": {
            "text/plain": [
              "array(['2', '8', '6', '1', '9', '7', '0', '3', '4', '5'], dtype=object)"
            ]
          },
          "metadata": {
            "tags": []
          },
          "execution_count": 19
        }
      ]
    },
    {
      "cell_type": "code",
      "metadata": {
        "id": "Znsxl6VTQ0oF",
        "outputId": "5af3b717-d645-4b4d-f6c2-186146ad60c7",
        "colab": {
          "base_uri": "https://localhost:8080/",
          "height": 99
        }
      },
      "source": [
        "# check the states\n",
        "sampled['addr_state'].unique()"
      ],
      "execution_count": 20,
      "outputs": [
        {
          "output_type": "execute_result",
          "data": {
            "text/plain": [
              "array(['VA', 'CO', 'IL', 'PA', 'NY', 'CA', 'OR', 'TX', 'NJ', 'GA', 'OH',\n",
              "       'ID', 'WA', 'NC', 'FL', 'AZ', 'MI', 'WI', 'MD', 'TN', 'MA', 'KS',\n",
              "       'LA', 'MO', 'SC', 'RI', 'IN', 'NV', 'MS', 'ME', 'MN', 'HI', 'OK',\n",
              "       'AK', 'AR', 'UT', 'DE', 'DC', 'KY', 'WV', 'VT', 'AL', 'NH', 'CT',\n",
              "       'NM', 'WY', 'NE', 'SD', 'MT', 'ND'], dtype=object)"
            ]
          },
          "metadata": {
            "tags": []
          },
          "execution_count": 20
        }
      ]
    },
    {
      "cell_type": "code",
      "metadata": {
        "id": "Bn5Xc7bgRMBS",
        "outputId": "62332606-6e3d-49c1-b114-85b2658716d5",
        "colab": {
          "base_uri": "https://localhost:8080/",
          "height": 66
        }
      },
      "source": [
        "# check the policy code\n",
        "sampled['policy_code'][sampled['accepted']==0].value_counts()"
      ],
      "execution_count": 21,
      "outputs": [
        {
          "output_type": "execute_result",
          "data": {
            "text/plain": [
              "0.0    2989\n",
              "2.0      11\n",
              "Name: policy_code, dtype: int64"
            ]
          },
          "metadata": {
            "tags": []
          },
          "execution_count": 21
        }
      ]
    },
    {
      "cell_type": "code",
      "metadata": {
        "id": "BHPGaKO6R-Eg",
        "outputId": "975a9bf4-9545-449b-9948-5eec1db8c7fe",
        "colab": {
          "base_uri": "https://localhost:8080/",
          "height": 49
        }
      },
      "source": [
        "sampled['policy_code'][sampled['accepted']==1].value_counts()"
      ],
      "execution_count": 22,
      "outputs": [
        {
          "output_type": "execute_result",
          "data": {
            "text/plain": [
              "1.0    10000\n",
              "Name: policy_code, dtype: int64"
            ]
          },
          "metadata": {
            "tags": []
          },
          "execution_count": 22
        }
      ]
    },
    {
      "cell_type": "code",
      "metadata": {
        "id": "VISnWJtDS617",
        "outputId": "47d34895-c31f-4fe4-f1c8-77a9fa635652",
        "colab": {
          "base_uri": "https://localhost:8080/",
          "height": 189
        }
      },
      "source": [
        "sampled.head()"
      ],
      "execution_count": 23,
      "outputs": [
        {
          "output_type": "execute_result",
          "data": {
            "text/html": [
              "<div>\n",
              "<style scoped>\n",
              "    .dataframe tbody tr th:only-of-type {\n",
              "        vertical-align: middle;\n",
              "    }\n",
              "\n",
              "    .dataframe tbody tr th {\n",
              "        vertical-align: top;\n",
              "    }\n",
              "\n",
              "    .dataframe thead th {\n",
              "        text-align: right;\n",
              "    }\n",
              "</style>\n",
              "<table border=\"1\" class=\"dataframe\">\n",
              "  <thead>\n",
              "    <tr style=\"text-align: right;\">\n",
              "      <th></th>\n",
              "      <th>title</th>\n",
              "      <th>dti</th>\n",
              "      <th>zip_code</th>\n",
              "      <th>addr_state</th>\n",
              "      <th>emp_length</th>\n",
              "      <th>policy_code</th>\n",
              "      <th>loan_amnt</th>\n",
              "      <th>accepted</th>\n",
              "      <th>funded_amnt</th>\n",
              "      <th>funded_amnt_inv</th>\n",
              "      <th>zip_code_short</th>\n",
              "    </tr>\n",
              "  </thead>\n",
              "  <tbody>\n",
              "    <tr>\n",
              "      <th>0</th>\n",
              "      <td>Debt consolidation</td>\n",
              "      <td>33.06</td>\n",
              "      <td>220xx</td>\n",
              "      <td>VA</td>\n",
              "      <td>0.0</td>\n",
              "      <td>0.0</td>\n",
              "      <td>40000.0</td>\n",
              "      <td>0</td>\n",
              "      <td>0.0</td>\n",
              "      <td>0.0</td>\n",
              "      <td>2</td>\n",
              "    </tr>\n",
              "    <tr>\n",
              "      <th>1</th>\n",
              "      <td>Home improvement</td>\n",
              "      <td>53.71</td>\n",
              "      <td>810xx</td>\n",
              "      <td>CO</td>\n",
              "      <td>10.0</td>\n",
              "      <td>1.0</td>\n",
              "      <td>10000.0</td>\n",
              "      <td>1</td>\n",
              "      <td>10000.0</td>\n",
              "      <td>10000.0</td>\n",
              "      <td>8</td>\n",
              "    </tr>\n",
              "    <tr>\n",
              "      <th>2</th>\n",
              "      <td>Other</td>\n",
              "      <td>7.09</td>\n",
              "      <td>606xx</td>\n",
              "      <td>IL</td>\n",
              "      <td>0.0</td>\n",
              "      <td>0.0</td>\n",
              "      <td>4000.0</td>\n",
              "      <td>0</td>\n",
              "      <td>0.0</td>\n",
              "      <td>0.0</td>\n",
              "      <td>6</td>\n",
              "    </tr>\n",
              "    <tr>\n",
              "      <th>3</th>\n",
              "      <td>other</td>\n",
              "      <td>51.63</td>\n",
              "      <td>170xx</td>\n",
              "      <td>PA</td>\n",
              "      <td>0.0</td>\n",
              "      <td>0.0</td>\n",
              "      <td>15000.0</td>\n",
              "      <td>0</td>\n",
              "      <td>0.0</td>\n",
              "      <td>0.0</td>\n",
              "      <td>1</td>\n",
              "    </tr>\n",
              "    <tr>\n",
              "      <th>4</th>\n",
              "      <td>Debt consolidation</td>\n",
              "      <td>29.98</td>\n",
              "      <td>114xx</td>\n",
              "      <td>NY</td>\n",
              "      <td>1.0</td>\n",
              "      <td>1.0</td>\n",
              "      <td>20000.0</td>\n",
              "      <td>1</td>\n",
              "      <td>20000.0</td>\n",
              "      <td>20000.0</td>\n",
              "      <td>1</td>\n",
              "    </tr>\n",
              "  </tbody>\n",
              "</table>\n",
              "</div>"
            ],
            "text/plain": [
              "                title    dti  ... funded_amnt_inv zip_code_short\n",
              "0  Debt consolidation  33.06  ...             0.0              2\n",
              "1    Home improvement  53.71  ...         10000.0              8\n",
              "2               Other   7.09  ...             0.0              6\n",
              "3               other  51.63  ...             0.0              1\n",
              "4  Debt consolidation  29.98  ...         20000.0              1\n",
              "\n",
              "[5 rows x 11 columns]"
            ]
          },
          "metadata": {
            "tags": []
          },
          "execution_count": 23
        }
      ]
    },
    {
      "cell_type": "code",
      "metadata": {
        "id": "Jqnn9XnVoA5l"
      },
      "source": [
        "# getting training and test set\n",
        "X_train, X_test, y_train, y_test = train_test_split(sampled.drop(['accepted', 'funded_amnt', 'funded_amnt_inv'], axis=1),\\\n",
        "                                                                     sampled[['accepted', 'funded_amnt', 'funded_amnt_inv']], test_size=0.3, random_state=123)"
      ],
      "execution_count": 24,
      "outputs": []
    },
    {
      "cell_type": "code",
      "metadata": {
        "id": "_3wdcy45LqJB"
      },
      "source": [
        "X_train = X_train.reset_index(drop=True)\n",
        "X_test = X_test.reset_index(drop=True)\n",
        "y_train = y_train.reset_index(drop=True)\n",
        "y_test = y_test.reset_index(drop=True)"
      ],
      "execution_count": 25,
      "outputs": []
    },
    {
      "cell_type": "code",
      "metadata": {
        "id": "4gn4FaFBoZK7"
      },
      "source": [
        "# binarize the important categorical data\n",
        "\n",
        "lb1 = LabelBinarizer()\n",
        "lb2 = LabelBinarizer()\n",
        "\n",
        "numerical_train = X_train.select_dtypes(include=['number']).drop(['policy_code'], axis=1)\n",
        "X_train = pd.concat([numerical_train, pd.DataFrame(lb1.fit_transform(X_train['zip_code_short'].to_numpy().reshape(-1,1))), pd.DataFrame(lb2.fit_transform(X_train['policy_code'].to_numpy().reshape(-1,1)))], axis=1)\n",
        "\n",
        "numerical_test = X_test.select_dtypes(include=['number']).drop(['policy_code'], axis=1)\n",
        "X_test = pd.concat([numerical_test, pd.DataFrame(lb1.transform(X_test['zip_code_short'].to_numpy().reshape(-1,1))), pd.DataFrame(lb2.transform(X_test['policy_code'].to_numpy().reshape(-1,1)))], axis=1)"
      ],
      "execution_count": 26,
      "outputs": []
    },
    {
      "cell_type": "code",
      "metadata": {
        "id": "-2eLP0aMHkvE",
        "outputId": "e5fcb9c1-acf5-4e20-dd88-6b4abe91b025",
        "colab": {
          "base_uri": "https://localhost:8080/",
          "height": 313
        }
      },
      "source": [
        "# check na values\n",
        "print(X_train.shape)\n",
        "X_train.isna().sum()"
      ],
      "execution_count": 27,
      "outputs": [
        {
          "output_type": "stream",
          "text": [
            "(9100, 16)\n"
          ],
          "name": "stdout"
        },
        {
          "output_type": "execute_result",
          "data": {
            "text/plain": [
              "dti             4\n",
              "emp_length    525\n",
              "loan_amnt       0\n",
              "0               0\n",
              "1               0\n",
              "2               0\n",
              "3               0\n",
              "4               0\n",
              "5               0\n",
              "6               0\n",
              "7               0\n",
              "8               0\n",
              "9               0\n",
              "0               0\n",
              "1               0\n",
              "2               0\n",
              "dtype: int64"
            ]
          },
          "metadata": {
            "tags": []
          },
          "execution_count": 27
        }
      ]
    },
    {
      "cell_type": "code",
      "metadata": {
        "id": "rqZOd16f0YVv"
      },
      "source": [
        "# drop na values\n",
        "y_train = y_train.iloc[X_train.dropna(subset=['dti', 'emp_length']).index].reset_index(drop=True)\n",
        "X_train = X_train.dropna(subset=['dti', 'emp_length']).reset_index(drop=True)"
      ],
      "execution_count": 28,
      "outputs": []
    },
    {
      "cell_type": "code",
      "metadata": {
        "id": "IKVqvgF80Jmr",
        "outputId": "f7558bf2-71ab-41fe-e0eb-d2fa9dc721dc",
        "colab": {
          "base_uri": "https://localhost:8080/",
          "height": 313
        }
      },
      "source": [
        "print(X_train.shape)\n",
        "X_train.isna().sum()"
      ],
      "execution_count": 29,
      "outputs": [
        {
          "output_type": "stream",
          "text": [
            "(8575, 16)\n"
          ],
          "name": "stdout"
        },
        {
          "output_type": "execute_result",
          "data": {
            "text/plain": [
              "dti           0\n",
              "emp_length    0\n",
              "loan_amnt     0\n",
              "0             0\n",
              "1             0\n",
              "2             0\n",
              "3             0\n",
              "4             0\n",
              "5             0\n",
              "6             0\n",
              "7             0\n",
              "8             0\n",
              "9             0\n",
              "0             0\n",
              "1             0\n",
              "2             0\n",
              "dtype: int64"
            ]
          },
          "metadata": {
            "tags": []
          },
          "execution_count": 29
        }
      ]
    },
    {
      "cell_type": "code",
      "metadata": {
        "id": "VFjAP6OT3bY-",
        "outputId": "74dfc414-0701-4dd5-a624-36dbb8456521",
        "colab": {
          "base_uri": "https://localhost:8080/",
          "height": 189
        }
      },
      "source": [
        "X_train.head()"
      ],
      "execution_count": 30,
      "outputs": [
        {
          "output_type": "execute_result",
          "data": {
            "text/html": [
              "<div>\n",
              "<style scoped>\n",
              "    .dataframe tbody tr th:only-of-type {\n",
              "        vertical-align: middle;\n",
              "    }\n",
              "\n",
              "    .dataframe tbody tr th {\n",
              "        vertical-align: top;\n",
              "    }\n",
              "\n",
              "    .dataframe thead th {\n",
              "        text-align: right;\n",
              "    }\n",
              "</style>\n",
              "<table border=\"1\" class=\"dataframe\">\n",
              "  <thead>\n",
              "    <tr style=\"text-align: right;\">\n",
              "      <th></th>\n",
              "      <th>dti</th>\n",
              "      <th>emp_length</th>\n",
              "      <th>loan_amnt</th>\n",
              "      <th>0</th>\n",
              "      <th>1</th>\n",
              "      <th>2</th>\n",
              "      <th>3</th>\n",
              "      <th>4</th>\n",
              "      <th>5</th>\n",
              "      <th>6</th>\n",
              "      <th>7</th>\n",
              "      <th>8</th>\n",
              "      <th>9</th>\n",
              "      <th>0</th>\n",
              "      <th>1</th>\n",
              "      <th>2</th>\n",
              "    </tr>\n",
              "  </thead>\n",
              "  <tbody>\n",
              "    <tr>\n",
              "      <th>0</th>\n",
              "      <td>21.71</td>\n",
              "      <td>8.0</td>\n",
              "      <td>14700.0</td>\n",
              "      <td>0</td>\n",
              "      <td>0</td>\n",
              "      <td>0</td>\n",
              "      <td>1</td>\n",
              "      <td>0</td>\n",
              "      <td>0</td>\n",
              "      <td>0</td>\n",
              "      <td>0</td>\n",
              "      <td>0</td>\n",
              "      <td>0</td>\n",
              "      <td>0</td>\n",
              "      <td>1</td>\n",
              "      <td>0</td>\n",
              "    </tr>\n",
              "    <tr>\n",
              "      <th>1</th>\n",
              "      <td>19.25</td>\n",
              "      <td>2.0</td>\n",
              "      <td>5000.0</td>\n",
              "      <td>1</td>\n",
              "      <td>0</td>\n",
              "      <td>0</td>\n",
              "      <td>0</td>\n",
              "      <td>0</td>\n",
              "      <td>0</td>\n",
              "      <td>0</td>\n",
              "      <td>0</td>\n",
              "      <td>0</td>\n",
              "      <td>0</td>\n",
              "      <td>0</td>\n",
              "      <td>1</td>\n",
              "      <td>0</td>\n",
              "    </tr>\n",
              "    <tr>\n",
              "      <th>2</th>\n",
              "      <td>20.72</td>\n",
              "      <td>5.0</td>\n",
              "      <td>35000.0</td>\n",
              "      <td>0</td>\n",
              "      <td>0</td>\n",
              "      <td>0</td>\n",
              "      <td>0</td>\n",
              "      <td>1</td>\n",
              "      <td>0</td>\n",
              "      <td>0</td>\n",
              "      <td>0</td>\n",
              "      <td>0</td>\n",
              "      <td>0</td>\n",
              "      <td>1</td>\n",
              "      <td>0</td>\n",
              "      <td>0</td>\n",
              "    </tr>\n",
              "    <tr>\n",
              "      <th>3</th>\n",
              "      <td>19.47</td>\n",
              "      <td>3.0</td>\n",
              "      <td>10000.0</td>\n",
              "      <td>0</td>\n",
              "      <td>1</td>\n",
              "      <td>0</td>\n",
              "      <td>0</td>\n",
              "      <td>0</td>\n",
              "      <td>0</td>\n",
              "      <td>0</td>\n",
              "      <td>0</td>\n",
              "      <td>0</td>\n",
              "      <td>0</td>\n",
              "      <td>1</td>\n",
              "      <td>0</td>\n",
              "      <td>0</td>\n",
              "    </tr>\n",
              "    <tr>\n",
              "      <th>4</th>\n",
              "      <td>23.64</td>\n",
              "      <td>6.0</td>\n",
              "      <td>4075.0</td>\n",
              "      <td>0</td>\n",
              "      <td>0</td>\n",
              "      <td>0</td>\n",
              "      <td>0</td>\n",
              "      <td>0</td>\n",
              "      <td>0</td>\n",
              "      <td>0</td>\n",
              "      <td>0</td>\n",
              "      <td>0</td>\n",
              "      <td>1</td>\n",
              "      <td>0</td>\n",
              "      <td>1</td>\n",
              "      <td>0</td>\n",
              "    </tr>\n",
              "  </tbody>\n",
              "</table>\n",
              "</div>"
            ],
            "text/plain": [
              "     dti  emp_length  loan_amnt  0  1  2  3  4  5  6  7  8  9  0  1  2\n",
              "0  21.71         8.0    14700.0  0  0  0  1  0  0  0  0  0  0  0  1  0\n",
              "1  19.25         2.0     5000.0  1  0  0  0  0  0  0  0  0  0  0  1  0\n",
              "2  20.72         5.0    35000.0  0  0  0  0  1  0  0  0  0  0  1  0  0\n",
              "3  19.47         3.0    10000.0  0  1  0  0  0  0  0  0  0  0  1  0  0\n",
              "4  23.64         6.0     4075.0  0  0  0  0  0  0  0  0  0  1  0  1  0"
            ]
          },
          "metadata": {
            "tags": []
          },
          "execution_count": 30
        }
      ]
    },
    {
      "cell_type": "code",
      "metadata": {
        "id": "MhWJHlk2xNe3"
      },
      "source": [
        "# normalize the non-binary data\n",
        "ct = ColumnTransformer([\n",
        "        ('train_scaled', StandardScaler(), ['dti', 'emp_length', 'loan_amnt'])\n",
        "    ], remainder='drop')\n",
        "\n",
        "X_train[['dti', 'emp_length', 'loan_amnt']] = pd.DataFrame(ct.fit_transform(X_train))"
      ],
      "execution_count": 31,
      "outputs": []
    },
    {
      "cell_type": "code",
      "metadata": {
        "id": "wizRSZrbJUHd",
        "outputId": "6aaba661-19d0-4b21-b8c5-3e86954aceaa",
        "colab": {
          "base_uri": "https://localhost:8080/",
          "height": 189
        }
      },
      "source": [
        "X_train.head()"
      ],
      "execution_count": 32,
      "outputs": [
        {
          "output_type": "execute_result",
          "data": {
            "text/html": [
              "<div>\n",
              "<style scoped>\n",
              "    .dataframe tbody tr th:only-of-type {\n",
              "        vertical-align: middle;\n",
              "    }\n",
              "\n",
              "    .dataframe tbody tr th {\n",
              "        vertical-align: top;\n",
              "    }\n",
              "\n",
              "    .dataframe thead th {\n",
              "        text-align: right;\n",
              "    }\n",
              "</style>\n",
              "<table border=\"1\" class=\"dataframe\">\n",
              "  <thead>\n",
              "    <tr style=\"text-align: right;\">\n",
              "      <th></th>\n",
              "      <th>dti</th>\n",
              "      <th>emp_length</th>\n",
              "      <th>loan_amnt</th>\n",
              "      <th>0</th>\n",
              "      <th>1</th>\n",
              "      <th>2</th>\n",
              "      <th>3</th>\n",
              "      <th>4</th>\n",
              "      <th>5</th>\n",
              "      <th>6</th>\n",
              "      <th>7</th>\n",
              "      <th>8</th>\n",
              "      <th>9</th>\n",
              "      <th>0</th>\n",
              "      <th>1</th>\n",
              "      <th>2</th>\n",
              "    </tr>\n",
              "  </thead>\n",
              "  <tbody>\n",
              "    <tr>\n",
              "      <th>0</th>\n",
              "      <td>-0.030165</td>\n",
              "      <td>0.823254</td>\n",
              "      <td>-0.010714</td>\n",
              "      <td>0</td>\n",
              "      <td>0</td>\n",
              "      <td>0</td>\n",
              "      <td>1</td>\n",
              "      <td>0</td>\n",
              "      <td>0</td>\n",
              "      <td>0</td>\n",
              "      <td>0</td>\n",
              "      <td>0</td>\n",
              "      <td>0</td>\n",
              "      <td>0</td>\n",
              "      <td>1</td>\n",
              "      <td>0</td>\n",
              "    </tr>\n",
              "    <tr>\n",
              "      <th>1</th>\n",
              "      <td>-0.036742</td>\n",
              "      <td>-0.658465</td>\n",
              "      <td>-0.860517</td>\n",
              "      <td>1</td>\n",
              "      <td>0</td>\n",
              "      <td>0</td>\n",
              "      <td>0</td>\n",
              "      <td>0</td>\n",
              "      <td>0</td>\n",
              "      <td>0</td>\n",
              "      <td>0</td>\n",
              "      <td>0</td>\n",
              "      <td>0</td>\n",
              "      <td>0</td>\n",
              "      <td>1</td>\n",
              "      <td>0</td>\n",
              "    </tr>\n",
              "    <tr>\n",
              "      <th>2</th>\n",
              "      <td>-0.032812</td>\n",
              "      <td>0.082394</td>\n",
              "      <td>1.767740</td>\n",
              "      <td>0</td>\n",
              "      <td>0</td>\n",
              "      <td>0</td>\n",
              "      <td>0</td>\n",
              "      <td>1</td>\n",
              "      <td>0</td>\n",
              "      <td>0</td>\n",
              "      <td>0</td>\n",
              "      <td>0</td>\n",
              "      <td>0</td>\n",
              "      <td>1</td>\n",
              "      <td>0</td>\n",
              "      <td>0</td>\n",
              "    </tr>\n",
              "    <tr>\n",
              "      <th>3</th>\n",
              "      <td>-0.036154</td>\n",
              "      <td>-0.411512</td>\n",
              "      <td>-0.422474</td>\n",
              "      <td>0</td>\n",
              "      <td>1</td>\n",
              "      <td>0</td>\n",
              "      <td>0</td>\n",
              "      <td>0</td>\n",
              "      <td>0</td>\n",
              "      <td>0</td>\n",
              "      <td>0</td>\n",
              "      <td>0</td>\n",
              "      <td>0</td>\n",
              "      <td>1</td>\n",
              "      <td>0</td>\n",
              "      <td>0</td>\n",
              "    </tr>\n",
              "    <tr>\n",
              "      <th>4</th>\n",
              "      <td>-0.025004</td>\n",
              "      <td>0.329348</td>\n",
              "      <td>-0.941555</td>\n",
              "      <td>0</td>\n",
              "      <td>0</td>\n",
              "      <td>0</td>\n",
              "      <td>0</td>\n",
              "      <td>0</td>\n",
              "      <td>0</td>\n",
              "      <td>0</td>\n",
              "      <td>0</td>\n",
              "      <td>0</td>\n",
              "      <td>1</td>\n",
              "      <td>0</td>\n",
              "      <td>1</td>\n",
              "      <td>0</td>\n",
              "    </tr>\n",
              "  </tbody>\n",
              "</table>\n",
              "</div>"
            ],
            "text/plain": [
              "        dti  emp_length  loan_amnt  0  1  2  3  4  5  6  7  8  9  0  1  2\n",
              "0 -0.030165    0.823254  -0.010714  0  0  0  1  0  0  0  0  0  0  0  1  0\n",
              "1 -0.036742   -0.658465  -0.860517  1  0  0  0  0  0  0  0  0  0  0  1  0\n",
              "2 -0.032812    0.082394   1.767740  0  0  0  0  1  0  0  0  0  0  1  0  0\n",
              "3 -0.036154   -0.411512  -0.422474  0  1  0  0  0  0  0  0  0  0  1  0  0\n",
              "4 -0.025004    0.329348  -0.941555  0  0  0  0  0  0  0  0  0  1  0  1  0"
            ]
          },
          "metadata": {
            "tags": []
          },
          "execution_count": 32
        }
      ]
    },
    {
      "cell_type": "code",
      "metadata": {
        "id": "hTVjISsqzGsH",
        "outputId": "ca33c46d-f452-4608-d36b-eaab5a6d0927",
        "colab": {
          "base_uri": "https://localhost:8080/",
          "height": 313
        }
      },
      "source": [
        "# check na values for test set\n",
        "print(X_test.shape)\n",
        "X_test.isna().sum()"
      ],
      "execution_count": 33,
      "outputs": [
        {
          "output_type": "stream",
          "text": [
            "(3900, 16)\n"
          ],
          "name": "stdout"
        },
        {
          "output_type": "execute_result",
          "data": {
            "text/plain": [
              "dti             0\n",
              "emp_length    218\n",
              "loan_amnt       0\n",
              "0               0\n",
              "1               0\n",
              "2               0\n",
              "3               0\n",
              "4               0\n",
              "5               0\n",
              "6               0\n",
              "7               0\n",
              "8               0\n",
              "9               0\n",
              "0               0\n",
              "1               0\n",
              "2               0\n",
              "dtype: int64"
            ]
          },
          "metadata": {
            "tags": []
          },
          "execution_count": 33
        }
      ]
    },
    {
      "cell_type": "code",
      "metadata": {
        "id": "TQyNIjaeGWhP"
      },
      "source": [
        "# drop na values for test set\n",
        "y_test = y_test.iloc[X_test.dropna(subset=['dti', 'emp_length']).index].reset_index(drop=True)\n",
        "X_test = X_test.dropna(subset=['dti', 'emp_length']).reset_index(drop=True)"
      ],
      "execution_count": 34,
      "outputs": []
    },
    {
      "cell_type": "code",
      "metadata": {
        "id": "tTo8yAJoHX3G",
        "outputId": "7ce75339-6254-4e74-f986-d519cfede816",
        "colab": {
          "base_uri": "https://localhost:8080/",
          "height": 313
        }
      },
      "source": [
        "print(X_test.shape)\n",
        "X_test.isna().sum()"
      ],
      "execution_count": 35,
      "outputs": [
        {
          "output_type": "stream",
          "text": [
            "(3682, 16)\n"
          ],
          "name": "stdout"
        },
        {
          "output_type": "execute_result",
          "data": {
            "text/plain": [
              "dti           0\n",
              "emp_length    0\n",
              "loan_amnt     0\n",
              "0             0\n",
              "1             0\n",
              "2             0\n",
              "3             0\n",
              "4             0\n",
              "5             0\n",
              "6             0\n",
              "7             0\n",
              "8             0\n",
              "9             0\n",
              "0             0\n",
              "1             0\n",
              "2             0\n",
              "dtype: int64"
            ]
          },
          "metadata": {
            "tags": []
          },
          "execution_count": 35
        }
      ]
    },
    {
      "cell_type": "code",
      "metadata": {
        "id": "deIC_bmbJera"
      },
      "source": [
        "# normalize test set based on training set\n",
        "X_test[['dti', 'emp_length', 'loan_amnt']] = pd.DataFrame(ct.transform(X_test))"
      ],
      "execution_count": 36,
      "outputs": []
    },
    {
      "cell_type": "code",
      "metadata": {
        "id": "gLivzFAXJjPT",
        "outputId": "4c7642b7-0552-47b0-a864-4f42eaeacd63",
        "colab": {
          "base_uri": "https://localhost:8080/",
          "height": 189
        }
      },
      "source": [
        "X_test.head()"
      ],
      "execution_count": 37,
      "outputs": [
        {
          "output_type": "execute_result",
          "data": {
            "text/html": [
              "<div>\n",
              "<style scoped>\n",
              "    .dataframe tbody tr th:only-of-type {\n",
              "        vertical-align: middle;\n",
              "    }\n",
              "\n",
              "    .dataframe tbody tr th {\n",
              "        vertical-align: top;\n",
              "    }\n",
              "\n",
              "    .dataframe thead th {\n",
              "        text-align: right;\n",
              "    }\n",
              "</style>\n",
              "<table border=\"1\" class=\"dataframe\">\n",
              "  <thead>\n",
              "    <tr style=\"text-align: right;\">\n",
              "      <th></th>\n",
              "      <th>dti</th>\n",
              "      <th>emp_length</th>\n",
              "      <th>loan_amnt</th>\n",
              "      <th>0</th>\n",
              "      <th>1</th>\n",
              "      <th>2</th>\n",
              "      <th>3</th>\n",
              "      <th>4</th>\n",
              "      <th>5</th>\n",
              "      <th>6</th>\n",
              "      <th>7</th>\n",
              "      <th>8</th>\n",
              "      <th>9</th>\n",
              "      <th>0</th>\n",
              "      <th>1</th>\n",
              "      <th>2</th>\n",
              "    </tr>\n",
              "  </thead>\n",
              "  <tbody>\n",
              "    <tr>\n",
              "      <th>0</th>\n",
              "      <td>-0.038026</td>\n",
              "      <td>1.317160</td>\n",
              "      <td>-0.930604</td>\n",
              "      <td>1</td>\n",
              "      <td>0</td>\n",
              "      <td>0</td>\n",
              "      <td>0</td>\n",
              "      <td>0</td>\n",
              "      <td>0</td>\n",
              "      <td>0</td>\n",
              "      <td>0</td>\n",
              "      <td>0</td>\n",
              "      <td>0</td>\n",
              "      <td>0</td>\n",
              "      <td>1</td>\n",
              "      <td>0</td>\n",
              "    </tr>\n",
              "    <tr>\n",
              "      <th>1</th>\n",
              "      <td>-0.041395</td>\n",
              "      <td>-1.152371</td>\n",
              "      <td>-0.247257</td>\n",
              "      <td>0</td>\n",
              "      <td>0</td>\n",
              "      <td>0</td>\n",
              "      <td>0</td>\n",
              "      <td>0</td>\n",
              "      <td>0</td>\n",
              "      <td>0</td>\n",
              "      <td>1</td>\n",
              "      <td>0</td>\n",
              "      <td>0</td>\n",
              "      <td>0</td>\n",
              "      <td>1</td>\n",
              "      <td>0</td>\n",
              "    </tr>\n",
              "    <tr>\n",
              "      <th>2</th>\n",
              "      <td>0.179170</td>\n",
              "      <td>-1.152371</td>\n",
              "      <td>-1.035734</td>\n",
              "      <td>0</td>\n",
              "      <td>0</td>\n",
              "      <td>0</td>\n",
              "      <td>0</td>\n",
              "      <td>0</td>\n",
              "      <td>0</td>\n",
              "      <td>0</td>\n",
              "      <td>0</td>\n",
              "      <td>0</td>\n",
              "      <td>1</td>\n",
              "      <td>1</td>\n",
              "      <td>0</td>\n",
              "      <td>0</td>\n",
              "    </tr>\n",
              "    <tr>\n",
              "      <th>3</th>\n",
              "      <td>-0.064390</td>\n",
              "      <td>1.317160</td>\n",
              "      <td>1.329697</td>\n",
              "      <td>0</td>\n",
              "      <td>0</td>\n",
              "      <td>1</td>\n",
              "      <td>0</td>\n",
              "      <td>0</td>\n",
              "      <td>0</td>\n",
              "      <td>0</td>\n",
              "      <td>0</td>\n",
              "      <td>0</td>\n",
              "      <td>0</td>\n",
              "      <td>0</td>\n",
              "      <td>1</td>\n",
              "      <td>0</td>\n",
              "    </tr>\n",
              "    <tr>\n",
              "      <th>4</th>\n",
              "      <td>0.049756</td>\n",
              "      <td>-1.152371</td>\n",
              "      <td>0.015569</td>\n",
              "      <td>0</td>\n",
              "      <td>0</td>\n",
              "      <td>0</td>\n",
              "      <td>0</td>\n",
              "      <td>0</td>\n",
              "      <td>0</td>\n",
              "      <td>0</td>\n",
              "      <td>1</td>\n",
              "      <td>0</td>\n",
              "      <td>0</td>\n",
              "      <td>1</td>\n",
              "      <td>0</td>\n",
              "      <td>0</td>\n",
              "    </tr>\n",
              "  </tbody>\n",
              "</table>\n",
              "</div>"
            ],
            "text/plain": [
              "        dti  emp_length  loan_amnt  0  1  2  3  4  5  6  7  8  9  0  1  2\n",
              "0 -0.038026    1.317160  -0.930604  1  0  0  0  0  0  0  0  0  0  0  1  0\n",
              "1 -0.041395   -1.152371  -0.247257  0  0  0  0  0  0  0  1  0  0  0  1  0\n",
              "2  0.179170   -1.152371  -1.035734  0  0  0  0  0  0  0  0  0  1  1  0  0\n",
              "3 -0.064390    1.317160   1.329697  0  0  1  0  0  0  0  0  0  0  0  1  0\n",
              "4  0.049756   -1.152371   0.015569  0  0  0  0  0  0  0  1  0  0  1  0  0"
            ]
          },
          "metadata": {
            "tags": []
          },
          "execution_count": 37
        }
      ]
    },
    {
      "cell_type": "code",
      "metadata": {
        "id": "cpVAfzQ_LHzU",
        "outputId": "1b51da90-495d-4f01-ce19-44d201b3089f",
        "colab": {
          "base_uri": "https://localhost:8080/",
          "height": 189
        }
      },
      "source": [
        "y_train.head()"
      ],
      "execution_count": 38,
      "outputs": [
        {
          "output_type": "execute_result",
          "data": {
            "text/html": [
              "<div>\n",
              "<style scoped>\n",
              "    .dataframe tbody tr th:only-of-type {\n",
              "        vertical-align: middle;\n",
              "    }\n",
              "\n",
              "    .dataframe tbody tr th {\n",
              "        vertical-align: top;\n",
              "    }\n",
              "\n",
              "    .dataframe thead th {\n",
              "        text-align: right;\n",
              "    }\n",
              "</style>\n",
              "<table border=\"1\" class=\"dataframe\">\n",
              "  <thead>\n",
              "    <tr style=\"text-align: right;\">\n",
              "      <th></th>\n",
              "      <th>accepted</th>\n",
              "      <th>funded_amnt</th>\n",
              "      <th>funded_amnt_inv</th>\n",
              "    </tr>\n",
              "  </thead>\n",
              "  <tbody>\n",
              "    <tr>\n",
              "      <th>0</th>\n",
              "      <td>1</td>\n",
              "      <td>14700.0</td>\n",
              "      <td>14700.0</td>\n",
              "    </tr>\n",
              "    <tr>\n",
              "      <th>1</th>\n",
              "      <td>1</td>\n",
              "      <td>5000.0</td>\n",
              "      <td>5000.0</td>\n",
              "    </tr>\n",
              "    <tr>\n",
              "      <th>2</th>\n",
              "      <td>0</td>\n",
              "      <td>0.0</td>\n",
              "      <td>0.0</td>\n",
              "    </tr>\n",
              "    <tr>\n",
              "      <th>3</th>\n",
              "      <td>0</td>\n",
              "      <td>0.0</td>\n",
              "      <td>0.0</td>\n",
              "    </tr>\n",
              "    <tr>\n",
              "      <th>4</th>\n",
              "      <td>1</td>\n",
              "      <td>4075.0</td>\n",
              "      <td>4075.0</td>\n",
              "    </tr>\n",
              "  </tbody>\n",
              "</table>\n",
              "</div>"
            ],
            "text/plain": [
              "   accepted  funded_amnt  funded_amnt_inv\n",
              "0         1      14700.0          14700.0\n",
              "1         1       5000.0           5000.0\n",
              "2         0          0.0              0.0\n",
              "3         0          0.0              0.0\n",
              "4         1       4075.0           4075.0"
            ]
          },
          "metadata": {
            "tags": []
          },
          "execution_count": 38
        }
      ]
    },
    {
      "cell_type": "markdown",
      "metadata": {
        "id": "6foqbdChJl4h"
      },
      "source": [
        "# Build models"
      ]
    },
    {
      "cell_type": "markdown",
      "metadata": {
        "id": "-cIatvTxJyWQ"
      },
      "source": [
        "## Regression"
      ]
    },
    {
      "cell_type": "markdown",
      "metadata": {
        "id": "RacFJI5AOGLq"
      },
      "source": [
        "### Linear Regression"
      ]
    },
    {
      "cell_type": "code",
      "metadata": {
        "id": "WqlrRO90JkyG",
        "outputId": "15ed3ac5-56b4-4b8a-af9a-6635fa447ef6",
        "colab": {
          "base_uri": "https://localhost:8080/",
          "height": 82
        }
      },
      "source": [
        "# build and run linear regression\n",
        "lr = LinearRegression()\n",
        "lr.fit(X_train, y_train['funded_amnt'])\n",
        "y_train_pred_funded_amnt = lr.predict(X_train)\n",
        "y_test_pred_funded_amnt = lr.predict(X_test)\n",
        "print('MSE for train', mean_squared_error(y_train['funded_amnt'], y_train_pred_funded_amnt))\n",
        "print('MSE for test', mean_squared_error(y_test['funded_amnt'], y_test_pred_funded_amnt))\n",
        "print('R^2 score for train', lr.score(X_train, y_train['funded_amnt']))\n",
        "print('R^2 score for test', lr.score(X_test, y_test['funded_amnt']))"
      ],
      "execution_count": 39,
      "outputs": [
        {
          "output_type": "stream",
          "text": [
            "MSE for train 32150092.873799767\n",
            "MSE for test 30843036.508832984\n",
            "R^2 score for train 0.6964914912305782\n",
            "R^2 score for test 0.7169902107575576\n"
          ],
          "name": "stdout"
        }
      ]
    },
    {
      "cell_type": "code",
      "metadata": {
        "id": "mtBCTBaARodx",
        "outputId": "7872620d-2e08-401c-e936-1203c89dc6a3",
        "colab": {
          "base_uri": "https://localhost:8080/",
          "height": 82
        }
      },
      "source": [
        "# build and run linear ridge regression\n",
        "ridge = RidgeCV()\n",
        "ridge.fit(X_train, y_train['funded_amnt'])\n",
        "y_train_pred_funded_amnt = ridge.predict(X_train)\n",
        "y_test_pred_funded_amnt = ridge.predict(X_test)\n",
        "print('MSE for train', mean_squared_error(y_train['funded_amnt'], y_train_pred_funded_amnt))\n",
        "print('MSE for test', mean_squared_error(y_test['funded_amnt'], y_test_pred_funded_amnt))\n",
        "print('R^2 score for train', ridge.score(X_train, y_train['funded_amnt']))\n",
        "print('R^2 score for test', ridge.score(X_test, y_test['funded_amnt']))"
      ],
      "execution_count": 40,
      "outputs": [
        {
          "output_type": "stream",
          "text": [
            "MSE for train 32152545.79953366\n",
            "MSE for test 30826942.532530036\n",
            "R^2 score for train 0.6964683347241711\n",
            "R^2 score for test 0.717137885998297\n"
          ],
          "name": "stdout"
        }
      ]
    },
    {
      "cell_type": "markdown",
      "metadata": {
        "id": "Ox_3BRK1OFQ-"
      },
      "source": [
        "### Random Forest Regressor"
      ]
    },
    {
      "cell_type": "code",
      "metadata": {
        "id": "-jH-GrDXMJxq",
        "outputId": "61415271-f192-4914-d309-6e50801459c9",
        "colab": {
          "base_uri": "https://localhost:8080/",
          "height": 82
        }
      },
      "source": [
        "# build and run random forest regressor\n",
        "rfr = RandomForestRegressor(random_state=123)\n",
        "rfr.fit(X_train, y_train['funded_amnt'])\n",
        "y_train_pred_funded_amnt = rfr.predict(X_train)\n",
        "y_test_pred_funded_amnt = rfr.predict(X_test)\n",
        "print('MSE for train', mean_squared_error(y_train['funded_amnt'], y_train_pred_funded_amnt))\n",
        "print('MSE for test', mean_squared_error(y_test['funded_amnt'], y_test_pred_funded_amnt))\n",
        "print('R^2 for train', rfr.score(X_train, y_train['funded_amnt']))\n",
        "print('R^2 for test', rfr.score(X_test, y_test['funded_amnt']))"
      ],
      "execution_count": 44,
      "outputs": [
        {
          "output_type": "stream",
          "text": [
            "MSE for train 5107.924052478134\n",
            "MSE for test 56643.11715779467\n",
            "R^2 for train 0.9999517793488759\n",
            "R^2 for test 0.9994802536175622\n"
          ],
          "name": "stdout"
        }
      ]
    },
    {
      "cell_type": "markdown",
      "metadata": {
        "id": "jGtqhc5tSbeQ"
      },
      "source": [
        "## Classification"
      ]
    },
    {
      "cell_type": "code",
      "metadata": {
        "id": "S1ZB6xThTkJe",
        "outputId": "13a60daf-5f30-4034-a0b6-b855861a1c83",
        "colab": {
          "base_uri": "https://localhost:8080/",
          "height": 82
        }
      },
      "source": [
        "# cross validation for random forest classifier\n",
        "\n",
        "param_grid = { \n",
        "    'n_estimators': [200, 500],\n",
        "    'max_features': ['auto', 'sqrt', 'log2'],\n",
        "    'max_depth' : [4,5,6,7,8],\n",
        "    'criterion' :['gini', 'entropy']\n",
        "}\n",
        "\n",
        "rfc_ = RandomForestClassifier(random_state=123)\n",
        "grc = GridSearchCV(rfc_, param_grid=param_grid, cv=7)\n",
        "grc.fit(X_train, y_train['accepted'])\n",
        "grc.best_params_"
      ],
      "execution_count": 45,
      "outputs": [
        {
          "output_type": "execute_result",
          "data": {
            "text/plain": [
              "{'criterion': 'gini',\n",
              " 'max_depth': 4,\n",
              " 'max_features': 'auto',\n",
              " 'n_estimators': 200}"
            ]
          },
          "metadata": {
            "tags": []
          },
          "execution_count": 45
        }
      ]
    },
    {
      "cell_type": "code",
      "metadata": {
        "id": "IoP6ngjRSdWw",
        "outputId": "56520e67-4e0f-473d-e8b1-e8b3057660ec",
        "colab": {
          "base_uri": "https://localhost:8080/",
          "height": 82
        }
      },
      "source": [
        "# build and run random forest classifier\n",
        "rfc = RandomForestClassifier(random_state=123, max_features='auto', n_estimators= 200, max_depth=4, criterion='gini')\n",
        "rfc.fit(X_train, y_train['accepted'])\n",
        "y_train_pred_status = rfc.predict(X_train)\n",
        "y_test_pred_status = rfc.predict(X_test)\n",
        "print('accuracy for train', accuracy_score(y_train['accepted'], y_train_pred_status))\n",
        "print('accuracy for test', accuracy_score(y_test['accepted'], y_test_pred_status))\n",
        "print('precision, reall, f-score, support for train', precision_recall_fscore_support(y_train['accepted'], y_train_pred_status))\n",
        "print('precision, reall, f-score, support for test', precision_recall_fscore_support(y_test['accepted'], y_test_pred_status))"
      ],
      "execution_count": 46,
      "outputs": [
        {
          "output_type": "stream",
          "text": [
            "accuracy for train 1.0\n",
            "accuracy for test 1.0\n",
            "precision, reall, f-score, support for train (array([1., 1.]), array([1., 1.]), array([1., 1.]), array([2040, 6535]))\n",
            "precision, reall, f-score, support for test (array([1., 1.]), array([1., 1.]), array([1., 1.]), array([ 853, 2829]))\n"
          ],
          "name": "stdout"
        }
      ]
    },
    {
      "cell_type": "code",
      "metadata": {
        "id": "Vi9L203VbIsU"
      },
      "source": [
        ""
      ],
      "execution_count": null,
      "outputs": []
    }
  ]
}